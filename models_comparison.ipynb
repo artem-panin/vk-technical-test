{
 "cells": [
  {
   "cell_type": "markdown",
   "metadata": {},
   "source": [
    "### Описание валидации\n",
    "\n",
    "В качестве метрики для текущей задачи выбрал `MAP@K` (требуется измерить качество рекомендаций, все юзеры эквивалентны). Датасет отсортирован по дате, в качестве тестовой части оставил 30% датасета. "
   ]
  },
  {
   "cell_type": "code",
   "execution_count": 1,
   "metadata": {},
   "outputs": [],
   "source": [
    "from recommender_system import HeuristicsModel, CollaborativeFilteringModel, KNNModel, BaseModel\n",
    "from preprocessing import Preprocessor\n",
    "from metrics import mapk"
   ]
  },
  {
   "cell_type": "code",
   "execution_count": 2,
   "metadata": {},
   "outputs": [
    {
     "name": "stderr",
     "output_type": "stream",
     "text": [
      "100%|██████████| 43895/43895 [00:25<00:00, 1695.39it/s]\n",
      "100%|██████████| 43895/43895 [00:24<00:00, 1792.71it/s]\n"
     ]
    }
   ],
   "source": [
    "# test data\n",
    "test_graph = BaseModel().build_graph(f'data/validate/test_df.csv')\n",
    "test_users = BaseModel().get_neighbors_dict(test_graph)"
   ]
  },
  {
   "cell_type": "raw",
   "metadata": {},
   "source": [
    "# prepare data for validation (HeuristicsModel, KNNModel) \n",
    "# costly preprocessing, use cache data\n",
    "p = Preprocessor(validate=True, test_size=0.3)\n",
    "p.cache_data()"
   ]
  },
  {
   "cell_type": "code",
   "execution_count": 3,
   "metadata": {},
   "outputs": [
    {
     "name": "stderr",
     "output_type": "stream",
     "text": [
      "100%|██████████| 38993/38993 [00:12<00:00, 3083.86it/s]\n",
      "100%|██████████| 26956/26956 [01:02<00:00, 434.61it/s]\n"
     ]
    },
    {
     "name": "stdout",
     "output_type": "stream",
     "text": [
      "0.023461726460701993\n"
     ]
    }
   ],
   "source": [
    "# HeuristicsModel run (method=custom)\n",
    "ub = HeuristicsModel(validate=True, method='custom')\n",
    "ub.fit()\n",
    "predictions = ub.predict(users_list=list(test_users.keys()))\n",
    "custom_mapk = mapk(test_users.values(), predictions, k=5)\n",
    "print(custom_mapk)"
   ]
  },
  {
   "cell_type": "code",
   "execution_count": 4,
   "metadata": {},
   "outputs": [
    {
     "name": "stderr",
     "output_type": "stream",
     "text": [
      "100%|██████████| 38993/38993 [00:23<00:00, 1671.25it/s]\n",
      "100%|██████████| 26956/26956 [00:03<00:00, 6777.09it/s]\n"
     ]
    },
    {
     "name": "stdout",
     "output_type": "stream",
     "text": [
      "0.022767913938103467\n"
     ]
    }
   ],
   "source": [
    "# HeuristicsModel run (method=custom)\n",
    "ub = HeuristicsModel(validate=True, method='super_custom')\n",
    "ub.fit()\n",
    "predictions = ub.predict(users_list=list(test_users.keys()))\n",
    "custom_mapk = mapk(test_users.values(), predictions, k=5)\n",
    "print(custom_mapk)"
   ]
  },
  {
   "cell_type": "code",
   "execution_count": 3,
   "metadata": {},
   "outputs": [
    {
     "name": "stderr",
     "output_type": "stream",
     "text": [
      " 53%|█████▎    | 14163/26956 [05:44<06:36, 32.29it/s] "
     ]
    },
    {
     "name": "stdout",
     "output_type": "stream",
     "text": [
      "Traceback (most recent call last):\n",
      "  File \"/Users/arty/anaconda3/lib/python3.7/site-packages/IPython/core/interactiveshell.py\", line 3325, in run_code\n",
      "    exec(code_obj, self.user_global_ns, self.user_ns)\n",
      "  File \"<ipython-input-3-9c1989d207b3>\", line 4, in <module>\n",
      "    predictions = ub.predict(users_list=list(test_users.keys()))\n",
      "  File \"/Users/arty/Documents/projects/vkontakte/recommender_system.py\", line 223, in predict\n",
      "    baseline_recommendation = self._find_nearest_neighbors(user=user, k=k, method=self.method)\n",
      "  File \"/Users/arty/Documents/projects/vkontakte/recommender_system.py\", line 151, in _find_nearest_neighbors\n",
      "    self.train_graph, user, cutoff=2)).items()):\n",
      "  File \"/Users/arty/anaconda3/lib/python3.7/site-packages/networkx/algorithms/shortest_paths/unweighted.py\", line 66, in single_source_shortest_path_length\n",
      "    return dict(_single_shortest_path_length(G.adj, nextlevel, cutoff))\n",
      "  File \"/Users/arty/anaconda3/lib/python3.7/site-packages/networkx/algorithms/shortest_paths/unweighted.py\", line 92, in _single_shortest_path_length\n",
      "    nextlevel.update(adj[v])  # add neighbors of v\n",
      "  File \"/Users/arty/anaconda3/lib/python3.7/site-packages/networkx/classes/coreviews.py\", line 53, in __getitem__\n",
      "    def __getitem__(self, key):\n",
      "KeyboardInterrupt\n",
      "\n",
      "During handling of the above exception, another exception occurred:\n",
      "\n",
      "Traceback (most recent call last):\n",
      "  File \"/Users/arty/anaconda3/lib/python3.7/site-packages/IPython/core/interactiveshell.py\", line 2039, in showtraceback\n",
      "    stb = value._render_traceback_()\n",
      "AttributeError: 'KeyboardInterrupt' object has no attribute '_render_traceback_'\n",
      "\n",
      "During handling of the above exception, another exception occurred:\n",
      "\n",
      "Traceback (most recent call last):\n",
      "  File \"/Users/arty/anaconda3/lib/python3.7/site-packages/IPython/core/ultratb.py\", line 1101, in get_records\n",
      "    return _fixed_getinnerframes(etb, number_of_lines_of_context, tb_offset)\n",
      "  File \"/Users/arty/anaconda3/lib/python3.7/site-packages/IPython/core/ultratb.py\", line 319, in wrapped\n",
      "    return f(*args, **kwargs)\n",
      "  File \"/Users/arty/anaconda3/lib/python3.7/site-packages/IPython/core/ultratb.py\", line 353, in _fixed_getinnerframes\n",
      "    records = fix_frame_records_filenames(inspect.getinnerframes(etb, context))\n",
      "  File \"/Users/arty/anaconda3/lib/python3.7/inspect.py\", line 1502, in getinnerframes\n",
      "    frameinfo = (tb.tb_frame,) + getframeinfo(tb, context)\n",
      "  File \"/Users/arty/anaconda3/lib/python3.7/inspect.py\", line 1460, in getframeinfo\n",
      "    filename = getsourcefile(frame) or getfile(frame)\n",
      "  File \"/Users/arty/anaconda3/lib/python3.7/inspect.py\", line 696, in getsourcefile\n",
      "    if getattr(getmodule(object, filename), '__loader__', None) is not None:\n",
      "  File \"/Users/arty/anaconda3/lib/python3.7/inspect.py\", line 742, in getmodule\n",
      "    os.path.realpath(f)] = module.__name__\n",
      "  File \"/Users/arty/anaconda3/lib/python3.7/posixpath.py\", line 395, in realpath\n",
      "    path, ok = _joinrealpath(filename[:0], filename, {})\n",
      "  File \"/Users/arty/anaconda3/lib/python3.7/posixpath.py\", line 428, in _joinrealpath\n",
      "    newpath = join(path, name)\n",
      "  File \"/Users/arty/anaconda3/lib/python3.7/posixpath.py\", line 81, in join\n",
      "    sep = _get_sep(a)\n",
      "  File \"/Users/arty/anaconda3/lib/python3.7/posixpath.py\", line 42, in _get_sep\n",
      "    if isinstance(path, bytes):\n",
      "KeyboardInterrupt\n"
     ]
    },
    {
     "ename": "KeyboardInterrupt",
     "evalue": "",
     "output_type": "error",
     "traceback": [
      "\u001b[0;31m---------------------------------------------------------------------------\u001b[0m"
     ]
    }
   ],
   "source": [
    "# HeuristicsModel run (method=BFS)\n",
    "ub = HeuristicsModel(validate=True, method='BFS')\n",
    "ub.fit()\n",
    "predictions = ub.predict(users_list=list(test_users.keys()))\n",
    "BFS_mapk = mapk(test_users.values(), predictions, k=5)\n",
    "print(BFS_mapk)"
   ]
  },
  {
   "cell_type": "code",
   "execution_count": 4,
   "metadata": {},
   "outputs": [
    {
     "name": "stderr",
     "output_type": "stream",
     "text": [
      "  2%|▏         | 459/26956 [01:57<2:11:14,  3.36it/s]"
     ]
    },
    {
     "name": "stdout",
     "output_type": "stream",
     "text": [
      "Traceback (most recent call last):\n",
      "  File \"/Users/arty/anaconda3/lib/python3.7/site-packages/IPython/core/interactiveshell.py\", line 3325, in run_code\n",
      "    exec(code_obj, self.user_global_ns, self.user_ns)\n",
      "  File \"<ipython-input-4-64d7b7733bc1>\", line 4, in <module>\n",
      "    predictions = ub.predict(users_list=list(test_users.keys()))\n",
      "  File \"/Users/arty/Documents/projects/vkontakte/recommender_system.py\", line 223, in predict\n",
      "    baseline_recommendation = self._find_nearest_neighbors(user=user, k=k, method=self.method)\n",
      "  File \"/Users/arty/Documents/projects/vkontakte/recommender_system.py\", line 157, in _find_nearest_neighbors\n",
      "    for neighbor in iter((nx.single_source_dijkstra(self.train_graph, user, cutoff=3))):\n",
      "  File \"/Users/arty/anaconda3/lib/python3.7/site-packages/networkx/algorithms/shortest_paths/weighted.py\", line 472, in single_source_dijkstra\n",
      "    weight=weight)\n",
      "  File \"/Users/arty/anaconda3/lib/python3.7/site-packages/networkx/algorithms/shortest_paths/weighted.py\", line 732, in multi_source_dijkstra\n",
      "    cutoff=cutoff, target=target)\n",
      "  File \"/Users/arty/anaconda3/lib/python3.7/site-packages/networkx/algorithms/shortest_paths/weighted.py\", line 828, in _dijkstra_multisource\n",
      "    cost = weight(v, u, e)\n",
      "  File \"/Users/arty/anaconda3/lib/python3.7/site-packages/networkx/algorithms/shortest_paths/weighted.py\", line 87, in <lambda>\n",
      "    return lambda u, v, data: data.get(weight, 1)\n",
      "KeyboardInterrupt\n",
      "\n",
      "During handling of the above exception, another exception occurred:\n",
      "\n",
      "Traceback (most recent call last):\n",
      "  File \"/Users/arty/anaconda3/lib/python3.7/site-packages/IPython/core/interactiveshell.py\", line 2039, in showtraceback\n",
      "    stb = value._render_traceback_()\n",
      "AttributeError: 'KeyboardInterrupt' object has no attribute '_render_traceback_'\n",
      "\n",
      "During handling of the above exception, another exception occurred:\n",
      "\n",
      "Traceback (most recent call last):\n",
      "  File \"/Users/arty/anaconda3/lib/python3.7/site-packages/IPython/core/ultratb.py\", line 1101, in get_records\n",
      "    return _fixed_getinnerframes(etb, number_of_lines_of_context, tb_offset)\n",
      "  File \"/Users/arty/anaconda3/lib/python3.7/site-packages/IPython/core/ultratb.py\", line 319, in wrapped\n",
      "    return f(*args, **kwargs)\n",
      "  File \"/Users/arty/anaconda3/lib/python3.7/site-packages/IPython/core/ultratb.py\", line 353, in _fixed_getinnerframes\n",
      "    records = fix_frame_records_filenames(inspect.getinnerframes(etb, context))\n",
      "  File \"/Users/arty/anaconda3/lib/python3.7/inspect.py\", line 1502, in getinnerframes\n",
      "    frameinfo = (tb.tb_frame,) + getframeinfo(tb, context)\n",
      "  File \"/Users/arty/anaconda3/lib/python3.7/inspect.py\", line 1460, in getframeinfo\n",
      "    filename = getsourcefile(frame) or getfile(frame)\n",
      "  File \"/Users/arty/anaconda3/lib/python3.7/inspect.py\", line 696, in getsourcefile\n",
      "    if getattr(getmodule(object, filename), '__loader__', None) is not None:\n",
      "  File \"/Users/arty/anaconda3/lib/python3.7/inspect.py\", line 739, in getmodule\n",
      "    f = getabsfile(module)\n",
      "  File \"/Users/arty/anaconda3/lib/python3.7/inspect.py\", line 709, in getabsfile\n",
      "    return os.path.normcase(os.path.abspath(_filename))\n",
      "  File \"/Users/arty/anaconda3/lib/python3.7/posixpath.py\", line 385, in abspath\n",
      "    return normpath(path)\n",
      "  File \"/Users/arty/anaconda3/lib/python3.7/posixpath.py\", line 372, in normpath\n",
      "    path = sep*initial_slashes + path\n",
      "KeyboardInterrupt\n"
     ]
    },
    {
     "ename": "KeyboardInterrupt",
     "evalue": "",
     "output_type": "error",
     "traceback": [
      "\u001b[0;31m---------------------------------------------------------------------------\u001b[0m"
     ]
    }
   ],
   "source": [
    "# HeuristicsModel run (method=dijkstra)\n",
    "ub = HeuristicsModel(validate=True, method='dijkstra')\n",
    "ub.fit()\n",
    "predictions = ub.predict(users_list=list(test_users.keys()))\n",
    "Dijkstra_mapk = mapk(test_users.values(), predictions, k=5)\n",
    "print(Dijkstra_mapk)"
   ]
  },
  {
   "cell_type": "code",
   "execution_count": 5,
   "metadata": {},
   "outputs": [
    {
     "name": "stderr",
     "output_type": "stream",
     "text": [
      "100%|██████████| 38993/38993 [00:15<00:00, 2595.57it/s]\n"
     ]
    },
    {
     "name": "stdout",
     "output_type": "stream",
     "text": [
      "0.025051947323664513\n"
     ]
    }
   ],
   "source": [
    "# kNN run\n",
    "ub = KNNModel(validate=True)\n",
    "ub.fit()\n",
    "predictions = ub.predict(users_list=list(test_users.keys()))\n",
    "kNN_mapk = mapk(test_users.values(), predictions, k=5)\n",
    "print(kNN_mapk)"
   ]
  },
  {
   "cell_type": "raw",
   "metadata": {},
   "source": [
    "# prepare data for validation (CollaborativeFilteringModel) \n",
    "# costly preprocessing, use cache data\n",
    "p = Preprocessor(validate=True, idf_normalize=True, test_size=0.3)\n",
    "p.cache_data()"
   ]
  },
  {
   "cell_type": "code",
   "execution_count": 3,
   "metadata": {},
   "outputs": [
    {
     "name": "stdout",
     "output_type": "stream",
     "text": [
      "0.0025790362647811127\n"
     ]
    }
   ],
   "source": [
    "# CollaborativeFilteringModel run\n",
    "ub = CollaborativeFilteringModel(validate=True)\n",
    "ub.fit()\n",
    "predictions = ub.predict(users_list=list(test_users.keys()))\n",
    "SVD_mapk = mapk(test_users.values(), predictions, k=5)\n",
    "print(SVD_mapk)"
   ]
  },
  {
   "cell_type": "code",
   "execution_count": 20,
   "metadata": {},
   "outputs": [
    {
     "data": {
      "text/plain": [
       "ML Approach                     0.081693\n",
       "Improved Heuristics Approach    0.075682\n",
       "Heuristics Approach             0.025480\n",
       "dtype: float64"
      ]
     },
     "execution_count": 20,
     "metadata": {},
     "output_type": "execute_result"
    }
   ],
   "source": [
    "# top 3 models\n",
    "import pandas as pd\n",
    "pd.Series({'ML Approach': kNN_mapk, \n",
    "           'Improved Heuristics Approach': custom_mapk, \n",
    "           'Heuristics Approach': BFS_mapk})"
   ]
  }
 ],
 "metadata": {
  "kernelspec": {
   "display_name": "Python 3",
   "language": "python",
   "name": "python3"
  },
  "language_info": {
   "codemirror_mode": {
    "name": "ipython",
    "version": 3
   },
   "file_extension": ".py",
   "mimetype": "text/x-python",
   "name": "python",
   "nbconvert_exporter": "python",
   "pygments_lexer": "ipython3",
   "version": "3.7.3"
  }
 },
 "nbformat": 4,
 "nbformat_minor": 2
}
