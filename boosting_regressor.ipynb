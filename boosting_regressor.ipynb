{
 "cells": [
  {
   "cell_type": "code",
   "execution_count": 1,
   "metadata": {},
   "outputs": [],
   "source": [
    "import pandas as pd\n",
    "import math\n",
    "import pandas as pd\n",
    "import numpy as np\n",
    "import networkx as nx\n",
    "from tqdm import tqdm_notebook\n",
    "\n",
    "from recommender_system import BaseModel"
   ]
  },
  {
   "cell_type": "code",
   "execution_count": 116,
   "metadata": {},
   "outputs": [],
   "source": [
    "def build_graph(path) -> nx.Graph:\n",
    "    \"\"\"\n",
    "    Create graph representation of dataset\n",
    "    Parameters\n",
    "    ----------\n",
    "    path : str\n",
    "        Relative path to csv file\n",
    "    \"\"\"\n",
    "    df = pd.read_csv(path, usecols=['uid1', 'uid2', 'target'])\n",
    "    df.columns = ['uid1', 'uid2', 'weight']\n",
    "    df['weight'] = 1 / df['weight']\n",
    "    g = nx.from_pandas_edgelist(df, source='uid1', target='uid2', edge_attr=['weight'], create_using=nx.DiGraph())\n",
    "    return g"
   ]
  },
  {
   "cell_type": "code",
   "execution_count": 117,
   "metadata": {},
   "outputs": [],
   "source": [
    "train_df = pd.read_csv(f'data/validate/train_df.csv')\n",
    "users = pd.read_csv(f'data/validate/train_index_map.csv', index_col=0, header=None)[1].values\n",
    "test_df = pd.read_csv(f'data/validate/test_df.csv')\n",
    "train_graph = build_graph(f'data/validate/train_df.csv')"
   ]
  },
  {
   "cell_type": "code",
   "execution_count": 3,
   "metadata": {},
   "outputs": [
    {
     "data": {
      "text/html": [
       "<div>\n",
       "<style scoped>\n",
       "    .dataframe tbody tr th:only-of-type {\n",
       "        vertical-align: middle;\n",
       "    }\n",
       "\n",
       "    .dataframe tbody tr th {\n",
       "        vertical-align: top;\n",
       "    }\n",
       "\n",
       "    .dataframe thead th {\n",
       "        text-align: right;\n",
       "    }\n",
       "</style>\n",
       "<table border=\"1\" class=\"dataframe\">\n",
       "  <thead>\n",
       "    <tr style=\"text-align: right;\">\n",
       "      <th></th>\n",
       "      <th>uid1</th>\n",
       "      <th>uid2</th>\n",
       "      <th>time</th>\n",
       "      <th>intensity</th>\n",
       "      <th>target</th>\n",
       "    </tr>\n",
       "  </thead>\n",
       "  <tbody>\n",
       "    <tr>\n",
       "      <th>0</th>\n",
       "      <td>632788</td>\n",
       "      <td>2592653</td>\n",
       "      <td>1.000000</td>\n",
       "      <td>2.306888e-01</td>\n",
       "      <td>1.230689</td>\n",
       "    </tr>\n",
       "    <tr>\n",
       "      <th>1</th>\n",
       "      <td>3073342</td>\n",
       "      <td>6016278</td>\n",
       "      <td>1.000000</td>\n",
       "      <td>1.740404e-04</td>\n",
       "      <td>1.000174</td>\n",
       "    </tr>\n",
       "    <tr>\n",
       "      <th>2</th>\n",
       "      <td>13413071</td>\n",
       "      <td>5605047</td>\n",
       "      <td>1.000000</td>\n",
       "      <td>1.364075e-01</td>\n",
       "      <td>1.136408</td>\n",
       "    </tr>\n",
       "    <tr>\n",
       "      <th>3</th>\n",
       "      <td>3063103</td>\n",
       "      <td>15617763</td>\n",
       "      <td>1.000000</td>\n",
       "      <td>2.005034e-01</td>\n",
       "      <td>1.200503</td>\n",
       "    </tr>\n",
       "    <tr>\n",
       "      <th>4</th>\n",
       "      <td>10680843</td>\n",
       "      <td>6803928</td>\n",
       "      <td>1.000000</td>\n",
       "      <td>7.213303e-12</td>\n",
       "      <td>1.000000</td>\n",
       "    </tr>\n",
       "    <tr>\n",
       "      <th>...</th>\n",
       "      <td>...</td>\n",
       "      <td>...</td>\n",
       "      <td>...</td>\n",
       "      <td>...</td>\n",
       "      <td>...</td>\n",
       "    </tr>\n",
       "    <tr>\n",
       "      <th>725067</th>\n",
       "      <td>9606946</td>\n",
       "      <td>5388999</td>\n",
       "      <td>0.362229</td>\n",
       "      <td>5.489187e-03</td>\n",
       "      <td>1.005489</td>\n",
       "    </tr>\n",
       "    <tr>\n",
       "      <th>725068</th>\n",
       "      <td>15508128</td>\n",
       "      <td>5388999</td>\n",
       "      <td>0.362228</td>\n",
       "      <td>8.768662e-05</td>\n",
       "      <td>1.000088</td>\n",
       "    </tr>\n",
       "    <tr>\n",
       "      <th>725069</th>\n",
       "      <td>5388999</td>\n",
       "      <td>15508128</td>\n",
       "      <td>0.362228</td>\n",
       "      <td>8.765214e-05</td>\n",
       "      <td>1.000088</td>\n",
       "    </tr>\n",
       "    <tr>\n",
       "      <th>725070</th>\n",
       "      <td>1344176</td>\n",
       "      <td>13588536</td>\n",
       "      <td>0.362228</td>\n",
       "      <td>3.839385e-02</td>\n",
       "      <td>1.038394</td>\n",
       "    </tr>\n",
       "    <tr>\n",
       "      <th>725071</th>\n",
       "      <td>13588536</td>\n",
       "      <td>1344176</td>\n",
       "      <td>0.362228</td>\n",
       "      <td>2.046704e-01</td>\n",
       "      <td>1.204670</td>\n",
       "    </tr>\n",
       "  </tbody>\n",
       "</table>\n",
       "<p>725072 rows × 5 columns</p>\n",
       "</div>"
      ],
      "text/plain": [
       "            uid1      uid2      time     intensity    target\n",
       "0         632788   2592653  1.000000  2.306888e-01  1.230689\n",
       "1        3073342   6016278  1.000000  1.740404e-04  1.000174\n",
       "2       13413071   5605047  1.000000  1.364075e-01  1.136408\n",
       "3        3063103  15617763  1.000000  2.005034e-01  1.200503\n",
       "4       10680843   6803928  1.000000  7.213303e-12  1.000000\n",
       "...          ...       ...       ...           ...       ...\n",
       "725067   9606946   5388999  0.362229  5.489187e-03  1.005489\n",
       "725068  15508128   5388999  0.362228  8.768662e-05  1.000088\n",
       "725069   5388999  15508128  0.362228  8.765214e-05  1.000088\n",
       "725070   1344176  13588536  0.362228  3.839385e-02  1.038394\n",
       "725071  13588536   1344176  0.362228  2.046704e-01  1.204670\n",
       "\n",
       "[725072 rows x 5 columns]"
      ]
     },
     "execution_count": 3,
     "metadata": {},
     "output_type": "execute_result"
    }
   ],
   "source": [
    "train_df"
   ]
  },
  {
   "cell_type": "code",
   "execution_count": 4,
   "metadata": {},
   "outputs": [
    {
     "data": {
      "text/html": [
       "<div>\n",
       "<style scoped>\n",
       "    .dataframe tbody tr th:only-of-type {\n",
       "        vertical-align: middle;\n",
       "    }\n",
       "\n",
       "    .dataframe tbody tr th {\n",
       "        vertical-align: top;\n",
       "    }\n",
       "\n",
       "    .dataframe thead th {\n",
       "        text-align: right;\n",
       "    }\n",
       "</style>\n",
       "<table border=\"1\" class=\"dataframe\">\n",
       "  <thead>\n",
       "    <tr style=\"text-align: right;\">\n",
       "      <th></th>\n",
       "      <th>uid1</th>\n",
       "      <th>uid2</th>\n",
       "      <th>time</th>\n",
       "      <th>intensity</th>\n",
       "      <th>target</th>\n",
       "    </tr>\n",
       "  </thead>\n",
       "  <tbody>\n",
       "    <tr>\n",
       "      <th>0</th>\n",
       "      <td>5453330</td>\n",
       "      <td>6643757</td>\n",
       "      <td>3.622275e-01</td>\n",
       "      <td>0.000123</td>\n",
       "      <td>1.000123</td>\n",
       "    </tr>\n",
       "    <tr>\n",
       "      <th>1</th>\n",
       "      <td>6643757</td>\n",
       "      <td>5453330</td>\n",
       "      <td>3.622275e-01</td>\n",
       "      <td>0.000132</td>\n",
       "      <td>1.000132</td>\n",
       "    </tr>\n",
       "    <tr>\n",
       "      <th>2</th>\n",
       "      <td>13433776</td>\n",
       "      <td>6326944</td>\n",
       "      <td>3.622274e-01</td>\n",
       "      <td>0.057462</td>\n",
       "      <td>1.057462</td>\n",
       "    </tr>\n",
       "    <tr>\n",
       "      <th>3</th>\n",
       "      <td>1179249</td>\n",
       "      <td>8900442</td>\n",
       "      <td>3.622274e-01</td>\n",
       "      <td>0.000029</td>\n",
       "      <td>1.000029</td>\n",
       "    </tr>\n",
       "    <tr>\n",
       "      <th>4</th>\n",
       "      <td>8900442</td>\n",
       "      <td>1179249</td>\n",
       "      <td>3.622274e-01</td>\n",
       "      <td>0.000018</td>\n",
       "      <td>1.000018</td>\n",
       "    </tr>\n",
       "    <tr>\n",
       "      <th>...</th>\n",
       "      <td>...</td>\n",
       "      <td>...</td>\n",
       "      <td>...</td>\n",
       "      <td>...</td>\n",
       "      <td>...</td>\n",
       "    </tr>\n",
       "    <tr>\n",
       "      <th>310741</th>\n",
       "      <td>16334984</td>\n",
       "      <td>14883929</td>\n",
       "      <td>4.134741e-05</td>\n",
       "      <td>0.525210</td>\n",
       "      <td>1.525210</td>\n",
       "    </tr>\n",
       "    <tr>\n",
       "      <th>310742</th>\n",
       "      <td>6237941</td>\n",
       "      <td>5731372</td>\n",
       "      <td>3.166315e-05</td>\n",
       "      <td>0.532890</td>\n",
       "      <td>1.532890</td>\n",
       "    </tr>\n",
       "    <tr>\n",
       "      <th>310743</th>\n",
       "      <td>5731372</td>\n",
       "      <td>6237941</td>\n",
       "      <td>3.166315e-05</td>\n",
       "      <td>0.485696</td>\n",
       "      <td>1.485696</td>\n",
       "    </tr>\n",
       "    <tr>\n",
       "      <th>310744</th>\n",
       "      <td>7775398</td>\n",
       "      <td>1319381</td>\n",
       "      <td>3.275974e-07</td>\n",
       "      <td>0.719708</td>\n",
       "      <td>1.719708</td>\n",
       "    </tr>\n",
       "    <tr>\n",
       "      <th>310745</th>\n",
       "      <td>6178138</td>\n",
       "      <td>1319381</td>\n",
       "      <td>0.000000e+00</td>\n",
       "      <td>0.455001</td>\n",
       "      <td>1.455001</td>\n",
       "    </tr>\n",
       "  </tbody>\n",
       "</table>\n",
       "<p>310746 rows × 5 columns</p>\n",
       "</div>"
      ],
      "text/plain": [
       "            uid1      uid2          time  intensity    target\n",
       "0        5453330   6643757  3.622275e-01   0.000123  1.000123\n",
       "1        6643757   5453330  3.622275e-01   0.000132  1.000132\n",
       "2       13433776   6326944  3.622274e-01   0.057462  1.057462\n",
       "3        1179249   8900442  3.622274e-01   0.000029  1.000029\n",
       "4        8900442   1179249  3.622274e-01   0.000018  1.000018\n",
       "...          ...       ...           ...        ...       ...\n",
       "310741  16334984  14883929  4.134741e-05   0.525210  1.525210\n",
       "310742   6237941   5731372  3.166315e-05   0.532890  1.532890\n",
       "310743   5731372   6237941  3.166315e-05   0.485696  1.485696\n",
       "310744   7775398   1319381  3.275974e-07   0.719708  1.719708\n",
       "310745   6178138   1319381  0.000000e+00   0.455001  1.455001\n",
       "\n",
       "[310746 rows x 5 columns]"
      ]
     },
     "execution_count": 4,
     "metadata": {},
     "output_type": "execute_result"
    }
   ],
   "source": [
    "test_df"
   ]
  },
  {
   "cell_type": "code",
   "execution_count": 5,
   "metadata": {},
   "outputs": [],
   "source": [
    "def skip_errors(f):\n",
    "    def _arg_wrapper(uid1, uid2, g):\n",
    "        try: \n",
    "            return f(uid1, uid2, g)\n",
    "        except (KeyError, nx.NetworkXError):\n",
    "            return np.nan\n",
    "    return _arg_wrapper\n",
    "\n",
    "@skip_errors\n",
    "def CommonNeighbors(u, v, g):\n",
    "    u_neighbors = set(g.neighbors(u))\n",
    "    v_neighbors = set(g.neighbors(v))\n",
    "    return len(u_neighbors.intersection(v_neighbors))\n",
    "\n",
    "@skip_errors\n",
    "def AdamicAdar(u, v, g):\n",
    "    u_neighbors = set(g.neighbors(u))\n",
    "    v_neighbors = set(g.neighbors(v))\n",
    "    aa = 0\n",
    "    for i in u_neighbors.intersection(v_neighbors):\n",
    "        aa += 1 / math.log(len(list(g.neighbors(i))))\n",
    "    return aa\n",
    "\n",
    "@skip_errors\n",
    "def ResourceAllocation(u, v, g):\n",
    "    u_neighbors = set(g.neighbors(u))\n",
    "    v_neighbors = set(g.neighbors(v))\n",
    "    ra = 0\n",
    "    for i in u_neighbors.intersection(v_neighbors):\n",
    "        ra += 1 / float(len(list(g.neighbors(i))))\n",
    "    return ra\n",
    "\n",
    "@skip_errors\n",
    "def JaccardCoefficent(u, v, g):\n",
    "    u_neighbors = set(g.neighbors(u))\n",
    "    v_neighbors = set(g.neighbors(v))\n",
    "    return len(u_neighbors.intersection(v_neighbors)) / float(len(u_neighbors.union(v_neighbors)))\n",
    "\n",
    "@skip_errors\n",
    "def PreferentialAttachment(u, v, g):\n",
    "    return len(list(g.neighbors(u))) * len(list(g.neighbors(v)))"
   ]
  },
  {
   "cell_type": "code",
   "execution_count": 6,
   "metadata": {},
   "outputs": [],
   "source": [
    "feature_set = {'common_neighbors': CommonNeighbors, \n",
    "              'adamic_adar': AdamicAdar,\n",
    "              'resourse_allocation': ResourceAllocation,\n",
    "              'jaccard_coef': JaccardCoefficent,\n",
    "              'pref_attachment': PreferentialAttachment,\n",
    "              }\n"
   ]
  },
  {
   "cell_type": "code",
   "execution_count": 7,
   "metadata": {},
   "outputs": [],
   "source": [
    "for feature in feature_set:\n",
    "    test_df[feature] = test_df.apply(lambda x: feature_set[feature](x['uid1'], x['uid2'], train_graph), axis=1)"
   ]
  },
  {
   "cell_type": "code",
   "execution_count": 8,
   "metadata": {},
   "outputs": [],
   "source": [
    "for feature in feature_set:\n",
    "    train_df[feature] = train_df.apply(lambda x: feature_set[feature](x['uid1'], x['uid2'], train_graph), axis=1)"
   ]
  },
  {
   "cell_type": "code",
   "execution_count": 9,
   "metadata": {},
   "outputs": [],
   "source": [
    "X_train, y_train = train_df.drop(columns=['uid1', 'uid2', 'time', 'intensity', 'target']), train_df['target']\n",
    "X_test, y_test = train_df.drop(columns=['uid1', 'uid2', 'time', 'intensity', 'target']), train_df['target']"
   ]
  },
  {
   "cell_type": "code",
   "execution_count": 10,
   "metadata": {},
   "outputs": [],
   "source": [
    "import lightgbm as lgb"
   ]
  },
  {
   "cell_type": "code",
   "execution_count": 11,
   "metadata": {},
   "outputs": [],
   "source": [
    "tr = lgb.Dataset(np.array(X_train), np.array(y_train))\n",
    "te = lgb.Dataset(np.array(X_train), np.array(y_train))"
   ]
  },
  {
   "cell_type": "code",
   "execution_count": 12,
   "metadata": {},
   "outputs": [],
   "source": [
    "param_lgb = {\n",
    "    'random_state': 0,\n",
    "    'bagging_fraction': 0.8,\n",
    "    'bagging_freq': 1,\n",
    "    'boost': 'gbdt',\n",
    "    'feature_fraction': 0.8,\n",
    "    'learning_rate': 0.01,\n",
    "    'metric':'auc',\n",
    "    'num_leaves': 31,\n",
    "    'num_threads': 8,\n",
    "    'objective': 'regression',\n",
    "    'metric': 'rmse'\n",
    "}"
   ]
  },
  {
   "cell_type": "code",
   "execution_count": 13,
   "metadata": {
    "scrolled": true
   },
   "outputs": [
    {
     "name": "stdout",
     "output_type": "stream",
     "text": [
      "Training until validation scores don't improve for 500 rounds.\n",
      "[100]\tvalid_0's rmse: 0.0888325\n",
      "[200]\tvalid_0's rmse: 0.088495\n",
      "[300]\tvalid_0's rmse: 0.0883827\n",
      "[400]\tvalid_0's rmse: 0.0883143\n",
      "[500]\tvalid_0's rmse: 0.0882592\n",
      "[600]\tvalid_0's rmse: 0.0882124\n",
      "[700]\tvalid_0's rmse: 0.0881681\n",
      "[800]\tvalid_0's rmse: 0.0881267\n",
      "[900]\tvalid_0's rmse: 0.0880864\n",
      "[1000]\tvalid_0's rmse: 0.0880479\n",
      "[1100]\tvalid_0's rmse: 0.0880095\n",
      "[1200]\tvalid_0's rmse: 0.0879726\n",
      "[1300]\tvalid_0's rmse: 0.0879379\n",
      "[1400]\tvalid_0's rmse: 0.0879021\n",
      "[1500]\tvalid_0's rmse: 0.0878683\n",
      "[1600]\tvalid_0's rmse: 0.0878351\n",
      "[1700]\tvalid_0's rmse: 0.0878038\n",
      "[1800]\tvalid_0's rmse: 0.0877708\n",
      "[1900]\tvalid_0's rmse: 0.0877392\n",
      "[2000]\tvalid_0's rmse: 0.0877074\n",
      "[2100]\tvalid_0's rmse: 0.0876758\n",
      "[2200]\tvalid_0's rmse: 0.0876453\n",
      "[2300]\tvalid_0's rmse: 0.0876153\n",
      "[2400]\tvalid_0's rmse: 0.0875843\n",
      "[2500]\tvalid_0's rmse: 0.0875535\n",
      "[2600]\tvalid_0's rmse: 0.0875232\n",
      "[2700]\tvalid_0's rmse: 0.0874931\n",
      "[2800]\tvalid_0's rmse: 0.0874644\n",
      "[2900]\tvalid_0's rmse: 0.0874362\n",
      "[3000]\tvalid_0's rmse: 0.0874082\n",
      "[3100]\tvalid_0's rmse: 0.0873806\n",
      "[3200]\tvalid_0's rmse: 0.087352\n",
      "[3300]\tvalid_0's rmse: 0.0873257\n",
      "[3400]\tvalid_0's rmse: 0.0872974\n",
      "[3500]\tvalid_0's rmse: 0.0872697\n",
      "[3600]\tvalid_0's rmse: 0.0872447\n",
      "[3700]\tvalid_0's rmse: 0.0872184\n",
      "[3800]\tvalid_0's rmse: 0.0871908\n",
      "[3900]\tvalid_0's rmse: 0.0871651\n",
      "[4000]\tvalid_0's rmse: 0.0871399\n",
      "[4100]\tvalid_0's rmse: 0.0871137\n",
      "[4200]\tvalid_0's rmse: 0.087087\n",
      "[4300]\tvalid_0's rmse: 0.0870615\n",
      "[4400]\tvalid_0's rmse: 0.0870359\n",
      "[4500]\tvalid_0's rmse: 0.0870112\n",
      "[4600]\tvalid_0's rmse: 0.0869859\n",
      "[4700]\tvalid_0's rmse: 0.0869619\n",
      "[4800]\tvalid_0's rmse: 0.0869372\n",
      "[4900]\tvalid_0's rmse: 0.0869142\n",
      "[5000]\tvalid_0's rmse: 0.0868909\n",
      "Did not meet early stopping. Best iteration is:\n",
      "[5000]\tvalid_0's rmse: 0.0868909\n"
     ]
    }
   ],
   "source": [
    "bst = lgb.train(param_lgb, tr, num_boost_round=5000, \n",
    "          valid_sets=te, early_stopping_rounds=int(5 / param_lgb['learning_rate']), verbose_eval=100)"
   ]
  },
  {
   "cell_type": "code",
   "execution_count": 14,
   "metadata": {},
   "outputs": [],
   "source": [
    "def predict(user):\n",
    "    user_friends = list(train_graph.neighbors(user)) \n",
    "    new_df = pd.DataFrame({'uid1': user, 'uid2': list(set(users) - set(user_friends) - {user})})\n",
    "    for feature in feature_set:\n",
    "        new_df[feature] = new_df.apply(lambda x: feature_set[feature](x['uid1'], x['uid2'], train_graph), axis=1)\n",
    "    pred = bst.predict(new_df.drop(columns=['uid1', 'uid2']))\n",
    "    return pd.Series(pred, index=new_df['uid2']).sort_values(ascending=False)"
   ]
  },
  {
   "cell_type": "code",
   "execution_count": 15,
   "metadata": {
    "scrolled": true
   },
   "outputs": [
    {
     "data": {
      "text/plain": [
       "uid2\n",
       "6516347     1.195799\n",
       "11835379    1.149712\n",
       "14001360    1.149712\n",
       "9602549     1.149712\n",
       "3442162     1.149712\n",
       "              ...   \n",
       "7274553     1.039421\n",
       "7976454     1.039411\n",
       "5201231     1.039363\n",
       "1586393     1.039196\n",
       "16543998    1.038130\n",
       "Length: 38987, dtype: float64"
      ]
     },
     "execution_count": 15,
     "metadata": {},
     "output_type": "execute_result"
    }
   ],
   "source": [
    "predict(6643757)"
   ]
  },
  {
   "cell_type": "code",
   "execution_count": 16,
   "metadata": {},
   "outputs": [
    {
     "data": {
      "text/html": [
       "<div>\n",
       "<style scoped>\n",
       "    .dataframe tbody tr th:only-of-type {\n",
       "        vertical-align: middle;\n",
       "    }\n",
       "\n",
       "    .dataframe tbody tr th {\n",
       "        vertical-align: top;\n",
       "    }\n",
       "\n",
       "    .dataframe thead th {\n",
       "        text-align: right;\n",
       "    }\n",
       "</style>\n",
       "<table border=\"1\" class=\"dataframe\">\n",
       "  <thead>\n",
       "    <tr style=\"text-align: right;\">\n",
       "      <th></th>\n",
       "      <th>uid1</th>\n",
       "      <th>uid2</th>\n",
       "      <th>time</th>\n",
       "      <th>intensity</th>\n",
       "      <th>target</th>\n",
       "      <th>common_neighbors</th>\n",
       "      <th>adamic_adar</th>\n",
       "      <th>resourse_allocation</th>\n",
       "      <th>jaccard_coef</th>\n",
       "      <th>pref_attachment</th>\n",
       "    </tr>\n",
       "  </thead>\n",
       "  <tbody>\n",
       "    <tr>\n",
       "      <th>1</th>\n",
       "      <td>6643757</td>\n",
       "      <td>5453330</td>\n",
       "      <td>0.362227</td>\n",
       "      <td>0.000132</td>\n",
       "      <td>1.000132</td>\n",
       "      <td>1.0</td>\n",
       "      <td>0.378923</td>\n",
       "      <td>0.071429</td>\n",
       "      <td>0.125</td>\n",
       "      <td>20.0</td>\n",
       "    </tr>\n",
       "  </tbody>\n",
       "</table>\n",
       "</div>"
      ],
      "text/plain": [
       "      uid1     uid2      time  intensity    target  common_neighbors  \\\n",
       "1  6643757  5453330  0.362227   0.000132  1.000132               1.0   \n",
       "\n",
       "   adamic_adar  resourse_allocation  jaccard_coef  pref_attachment  \n",
       "1     0.378923             0.071429         0.125             20.0  "
      ]
     },
     "execution_count": 16,
     "metadata": {},
     "output_type": "execute_result"
    }
   ],
   "source": [
    "test_df[test_df['uid1'] == 6643757]"
   ]
  },
  {
   "cell_type": "code",
   "execution_count": 17,
   "metadata": {},
   "outputs": [
    {
     "data": {
      "text/plain": [
       "(array([18260, 29566, 35745, 31935, 34494]),\n",
       " Index(['common_neighbors', 'adamic_adar', 'resourse_allocation',\n",
       "        'jaccard_coef', 'pref_attachment'],\n",
       "       dtype='object'))"
      ]
     },
     "execution_count": 17,
     "metadata": {},
     "output_type": "execute_result"
    }
   ],
   "source": [
    "bst.feature_importance(), X_train.columns"
   ]
  },
  {
   "cell_type": "code",
   "execution_count": 107,
   "metadata": {},
   "outputs": [],
   "source": [
    "def predict(user):\n",
    "    if user in train_graph.nodes:\n",
    "        new_df = pd.DataFrame({'uid1': user, \n",
    "                               'uid2': list(set(np.unique([y for x in users[user] for y in x])))})\n",
    "        if not new_df.empty:\n",
    "            for feature in feature_set:\n",
    "                new_df[feature] = new_df.apply(lambda x: feature_set[feature](x['uid1'], x['uid2'], train_graph), axis=1)\n",
    "            pred = bst.predict(new_df.drop(columns=['uid1', 'uid2']))\n",
    "            pred = new_df['uid2'].iloc[pred.argsort()[-5:]].values[::-1]\n",
    "            if len(pred) == 5:\n",
    "                return pred\n",
    "            else:\n",
    "                for i in range(5 - len(pred)):\n",
    "                    pred = np.append(pred, 0)\n",
    "                return pred\n",
    "        else:\n",
    "            return np.array([18260, 29566, 35745, 31935, 34494])\n",
    "    else:\n",
    "        return np.array([18260, 29566, 35745, 31935, 34494])"
   ]
  },
  {
   "cell_type": "code",
   "execution_count": 59,
   "metadata": {},
   "outputs": [],
   "source": [
    "def get_second_level_neighbors(graph) -> dict:\n",
    "    neighbors_dict = {}\n",
    "    for node in sorted(graph.nodes):\n",
    "        bfs = nx.bfs_successors(graph, node)\n",
    "        neighbors = next(bfs)[1]\n",
    "        second_level = []\n",
    "        for i in neighbors:\n",
    "            try:\n",
    "                neigh = next(bfs)[1]\n",
    "                second_level.append(neigh) \n",
    "            except StopIteration:\n",
    "                break\n",
    "        neighbors_dict[node] = second_level\n",
    "    return neighbors_dict"
   ]
  },
  {
   "cell_type": "code",
   "execution_count": 60,
   "metadata": {},
   "outputs": [],
   "source": [
    "users = get_second_level_neighbors(train_graph)"
   ]
  },
  {
   "cell_type": "code",
   "execution_count": 81,
   "metadata": {},
   "outputs": [],
   "source": [
    "test = test_df.groupby('uid1').groups"
   ]
  },
  {
   "cell_type": "code",
   "execution_count": 113,
   "metadata": {},
   "outputs": [
    {
     "data": {
      "application/vnd.jupyter.widget-view+json": {
       "model_id": "ae672edbbba24a2eaafa42ea38b99a7f",
       "version_major": 2,
       "version_minor": 0
      },
      "text/plain": [
       "HBox(children=(IntProgress(value=0, max=10000), HTML(value='')))"
      ]
     },
     "metadata": {},
     "output_type": "display_data"
    }
   ],
   "source": [
    "predictions = []\n",
    "for user in tqdm_notebook(list(test.keys())[:10000]):\n",
    "    predictions.append(predict(user))"
   ]
  },
  {
   "cell_type": "code",
   "execution_count": 76,
   "metadata": {},
   "outputs": [],
   "source": [
    "from metrics import mapk"
   ]
  },
  {
   "cell_type": "code",
   "execution_count": 115,
   "metadata": {},
   "outputs": [
    {
     "data": {
      "text/plain": [
       "0.0"
      ]
     },
     "execution_count": 115,
     "metadata": {},
     "output_type": "execute_result"
    }
   ],
   "source": [
    "mapk([list(x) for x in list(test.values())[:10000]], predictions, k=5)"
   ]
  }
 ],
 "metadata": {
  "kernelspec": {
   "display_name": "Python 3",
   "language": "python",
   "name": "python3"
  },
  "language_info": {
   "codemirror_mode": {
    "name": "ipython",
    "version": 3
   },
   "file_extension": ".py",
   "mimetype": "text/x-python",
   "name": "python",
   "nbconvert_exporter": "python",
   "pygments_lexer": "ipython3",
   "version": "3.7.3"
  }
 },
 "nbformat": 4,
 "nbformat_minor": 2
}
